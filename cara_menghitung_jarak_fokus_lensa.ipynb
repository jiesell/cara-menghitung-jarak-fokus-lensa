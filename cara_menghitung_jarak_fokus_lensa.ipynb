{
  "nbformat": 4,
  "nbformat_minor": 0,
  "metadata": {
    "colab": {
      "provenance": []
    },
    "kernelspec": {
      "name": "python3",
      "display_name": "Python 3"
    },
    "language_info": {
      "name": "python"
    }
  },
  "cells": [
    {
      "cell_type": "code",
      "execution_count": 1,
      "metadata": {
        "id": "dLH23pI_v2Z8",
        "colab": {
          "base_uri": "https://localhost:8080/"
        },
        "outputId": "9b0dc603-b448-43a1-b0a2-7ee1b5418b3c"
      },
      "outputs": [
        {
          "output_type": "stream",
          "name": "stdout",
          "text": [
            "Contoh soal : Gunakan operasi perhitungan fisika matematika untuk\n",
            "menghitung jarak fokus lensa (f) dalam cm pada persamaan pembuat \n",
            "lensa 1/f = (n-1)[1/R1+1/R2] dengan n adalah indeks bias medium = 1.50 dan\n",
            "R1 dan R2 adalah jejari kelengkungan permukaan masing - masing 20 cm dan 18 cm.\n",
            "jawab :\n",
            "Rumus mencari jarak fokus = 1/f = (n-1)[1/R1+1/R2]\n",
            "18.94736842105263\n"
          ]
        }
      ],
      "source": [
        "print(\"Contoh soal : Gunakan operasi perhitungan fisika matematika untuk\")\n",
        "print(\"menghitung jarak fokus lensa (f) dalam cm pada persamaan pembuat \")\n",
        "print(\"lensa 1/f = (n-1)[1/R1+1/R2] dengan n adalah indeks bias medium = 1.50 dan\")\n",
        "print(\"R1 dan R2 adalah jejari kelengkungan permukaan masing - masing 20 cm dan 18 cm.\")\n",
        "\n",
        "#data - data yang diketahui \n",
        "n = 1.50\n",
        "R1 = 20\n",
        "R2 = 18 \n",
        "\n",
        "#perhitungan jarak fokus lensa\n",
        "print(\"jawab :\")\n",
        "print (\"Rumus mencari jarak fokus = 1/f = (n-1)[1/R1+1/R2]\")\n",
        "x = (n-1)*(1/R1+1/R2)\n",
        "f = 1/x\n",
        "print(f)"
      ]
    }
  ]
}